{
 "cells": [
  {
   "cell_type": "markdown",
   "id": "c978e6a3",
   "metadata": {},
   "source": [
    "# LFA-TP1: Autômato Finito Determinístico (AFD)"
   ]
  },
  {
   "cell_type": "markdown",
   "id": "dbd0c481",
   "metadata": {},
   "source": [
    "Implemente um algoritmo que simule um AFD. A entrada consiste da especificação de um AFD e de um conjunto de palavras. A saída consiste de uma lista indicando ‘S’ caso o AFD reconheça a palavra em questão e ‘N’ caso contrário."
   ]
  },
  {
   "cell_type": "markdown",
   "id": "44ae4859",
   "metadata": {},
   "source": [
    "# Relatório + Código:"
   ]
  },
  {
   "cell_type": "markdown",
   "id": "69ad6c6a",
   "metadata": {},
   "source": [
    "O código começa solicitando as entradas iniciais que são os estados, símbolos do alfabeto e o número de transições."
   ]
  },
  {
   "cell_type": "code",
   "execution_count": 7,
   "id": "976dd291",
   "metadata": {},
   "outputs": [
    {
     "name": "stdout",
     "output_type": "stream",
     "text": [
      "0 1\n",
      "a b\n",
      "3\n"
     ]
    }
   ],
   "source": [
    "estados = input().split(\" \")\n",
    "alfabeto = input().split(\" \")\n",
    "transicoes = int(input())"
   ]
  },
  {
   "cell_type": "markdown",
   "id": "7f03699e",
   "metadata": {},
   "source": [
    "Como estrutura de dados, foi usado uma tabela hash para a tabela que contém as transiçoes do AFD, a tabela hash armazena um par chave-valor com complexidade de busca média de O(1)."
   ]
  },
  {
   "cell_type": "code",
   "execution_count": 8,
   "id": "b552accb",
   "metadata": {},
   "outputs": [],
   "source": [
    "afd = {}"
   ]
  },
  {
   "cell_type": "markdown",
   "id": "cd4dbe07",
   "metadata": {},
   "source": [
    "É criado uma chave na tabela hash para cada estado do AFD."
   ]
  },
  {
   "cell_type": "code",
   "execution_count": 9,
   "id": "3132506d",
   "metadata": {},
   "outputs": [],
   "source": [
    "for estado in estados:\n",
    "    afd[estado] = {}"
   ]
  },
  {
   "cell_type": "markdown",
   "id": "fa2c11db",
   "metadata": {},
   "source": [
    "Nesta etapa é adicionado as entradas das transições para cada estado, onde na tripla <o,c,d> o 'o' é o estado inicial/origem, ‘c’ é o caractere e ‘d’ é o estado de destino."
   ]
  },
  {
   "cell_type": "code",
   "execution_count": 10,
   "id": "49ae2aec",
   "metadata": {},
   "outputs": [
    {
     "name": "stdout",
     "output_type": "stream",
     "text": [
      "0 a 1\n",
      "1 a 1\n",
      "1 b 1\n"
     ]
    }
   ],
   "source": [
    "for i in range(0, transicoes):\n",
    "    o, c, d = input().split(\" \")\n",
    "    if c not in afd[o]:\n",
    "        afd[o][c] = d"
   ]
  },
  {
   "cell_type": "markdown",
   "id": "69018309",
   "metadata": {},
   "source": [
    "Aqui é solicitado o estado inicial, lista de estados finais e palavras para serem reconhecidas."
   ]
  },
  {
   "cell_type": "code",
   "execution_count": 13,
   "id": "3da16fbb",
   "metadata": {},
   "outputs": [
    {
     "name": "stdout",
     "output_type": "stream",
     "text": [
      "0\n",
      "1\n",
      "a b aba abb b\n"
     ]
    }
   ],
   "source": [
    "estado_inicial = input()\n",
    "estado_final = input().split(\" \")\n",
    "palavras = input().split(\" \")"
   ]
  },
  {
   "cell_type": "markdown",
   "id": "2d8596be",
   "metadata": {},
   "source": [
    "Por fim, temos o script que, com base na especificação do AFD fornecida nos passos anteriores, reconhece ou não uma palavra da seguinte forma:\n",
    "\n",
    "Cada palavra fornecida para teste no passo anterior será percorrida caractere por caractere até o fim da string;\n",
    "\n",
    "Verifica se existe a transição a partir do estado atual (a partir do acesso em duas tabelas hash que terá complexidade máxima de O(n) onde n é o tamanho da palavra de entrada);\n",
    "\n",
    "Caso a transição exista, o novo estado atual será definido;\n",
    "\n",
    "Caso não exista, o AFD irá efetuar a transição para o estado de erro. \n",
    "\n",
    "Por fim, se o estado atual é o estado de erro ou não é o estado final, então retorna \"N\" e caso contrário retorna \"S\", indicando que o AFD reconheçeu a palavra em questão."
   ]
  },
  {
   "cell_type": "code",
   "execution_count": 16,
   "id": "947c1193",
   "metadata": {},
   "outputs": [
    {
     "name": "stdout",
     "output_type": "stream",
     "text": [
      "S\n",
      "N\n",
      "S\n",
      "S\n",
      "N\n"
     ]
    }
   ],
   "source": [
    "for palavra in palavras:\n",
    "    estado_atual = estado_inicial\n",
    "    estado_erro = 0\n",
    "    for char in palavra:\n",
    "        try:\n",
    "            estado_atual = afd[estado_atual][char]\n",
    "        except KeyError:\n",
    "            estado_erro = 1\n",
    "            break\n",
    "    if(estado_erro == 1 or estado_atual not in estado_final):\n",
    "        print('N')\n",
    "    else:\n",
    "        print('S')"
   ]
  }
 ],
 "metadata": {
  "kernelspec": {
   "display_name": "Python 3 (ipykernel)",
   "language": "python",
   "name": "python3"
  },
  "language_info": {
   "codemirror_mode": {
    "name": "ipython",
    "version": 3
   },
   "file_extension": ".py",
   "mimetype": "text/x-python",
   "name": "python",
   "nbconvert_exporter": "python",
   "pygments_lexer": "ipython3",
   "version": "3.9.7"
  }
 },
 "nbformat": 4,
 "nbformat_minor": 5
}
